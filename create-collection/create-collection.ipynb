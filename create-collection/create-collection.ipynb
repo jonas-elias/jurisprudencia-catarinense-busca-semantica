{
 "cells": [
  {
   "cell_type": "code",
   "execution_count": null,
   "metadata": {},
   "outputs": [],
   "source": [
    "from sentence_transformers import SentenceTransformer\n",
    "from qdrant_client import QdrantClient\n",
    "from qdrant_client.models import VectorParams, Distance\n",
    "\n",
    "import numpy as np\n",
    "import json"
   ]
  },
  {
   "cell_type": "code",
   "execution_count": 2,
   "metadata": {},
   "outputs": [],
   "source": [
    "model = SentenceTransformer('all-distilroberta-v1')"
   ]
  },
  {
   "cell_type": "code",
   "execution_count": null,
   "metadata": {},
   "outputs": [],
   "source": [
    "qdrant_client = QdrantClient('http://localhost:6333')"
   ]
  },
  {
   "cell_type": "code",
   "execution_count": null,
   "metadata": {},
   "outputs": [],
   "source": [
    "distance = Distance.COSINE  # or DOR or EUCLIDE\n",
    "size_vector_model = model.get_sentence_embedding_dimension()\n",
    "qdrant_client.recreate_collection(\n",
    "    collection_name='jurisprudencias',\n",
    "    vectors_config=VectorParams(size=size_vector_model, distance=distance),\n",
    ")\n"
   ]
  },
  {
   "cell_type": "code",
   "execution_count": null,
   "metadata": {},
   "outputs": [],
   "source": [
    "vectors = np.load('./juris_vector.npy')\n",
    "summarization_datasert = open('./summarization_datasert.json', encoding='utf-8')\n",
    "payload = json.load(summarization_datasert)"
   ]
  },
  {
   "cell_type": "code",
   "execution_count": null,
   "metadata": {},
   "outputs": [],
   "source": [
    "sequence_length = model.get_max_seq_length()\n",
    "\n",
    "qdrant_client.upload_collection(\n",
    "    collection_name='jurisprudencias',\n",
    "    vectors=vectors,\n",
    "    payload=payload,\n",
    "    ids=None,\n",
    "    batch_size=sequence_length\n",
    ")"
   ]
  }
 ],
 "metadata": {
  "kernelspec": {
   "display_name": "Python 3",
   "language": "python",
   "name": "python3"
  },
  "language_info": {
   "codemirror_mode": {
    "name": "ipython",
    "version": 3
   },
   "file_extension": ".py",
   "mimetype": "text/x-python",
   "name": "python",
   "nbconvert_exporter": "python",
   "pygments_lexer": "ipython3",
   "version": "3.10.11"
  },
  "orig_nbformat": 4
 },
 "nbformat": 4,
 "nbformat_minor": 2
}
